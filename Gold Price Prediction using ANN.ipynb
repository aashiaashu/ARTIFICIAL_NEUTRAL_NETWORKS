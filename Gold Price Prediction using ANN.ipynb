{
 "cells": [
  {
   "cell_type": "code",
   "execution_count": null,
   "id": "fd28ff19",
   "metadata": {},
   "outputs": [],
   "source": [
    "import pandas as pd\n",
    "import numpy as np\n",
    "from sklearn.model_selection import train_test_split\n",
    "from sklearn.preprocessing import StandardScaler\n",
    "from sklearn.preprocessing import MinMaxScaler"
   ]
  },
  {
   "cell_type": "code",
   "execution_count": 2,
   "id": "b6078ded",
   "metadata": {},
   "outputs": [],
   "source": [
    "import tensorflow as tf\n",
    "from tensorflow import keras\n",
    "from tensorflow.keras import Sequential\n",
    "from tensorflow.keras.layers import Dense"
   ]
  },
  {
   "cell_type": "code",
   "execution_count": 4,
   "id": "e8675f0b",
   "metadata": {},
   "outputs": [],
   "source": [
    "df = pd.read_csv(\"gld_price_data.csv\")"
   ]
  },
  {
   "cell_type": "code",
   "execution_count": 5,
   "id": "2df4f6aa",
   "metadata": {
    "scrolled": true
   },
   "outputs": [
    {
     "data": {
      "text/html": [
       "<div>\n",
       "<style scoped>\n",
       "    .dataframe tbody tr th:only-of-type {\n",
       "        vertical-align: middle;\n",
       "    }\n",
       "\n",
       "    .dataframe tbody tr th {\n",
       "        vertical-align: top;\n",
       "    }\n",
       "\n",
       "    .dataframe thead th {\n",
       "        text-align: right;\n",
       "    }\n",
       "</style>\n",
       "<table border=\"1\" class=\"dataframe\">\n",
       "  <thead>\n",
       "    <tr style=\"text-align: right;\">\n",
       "      <th></th>\n",
       "      <th>Date</th>\n",
       "      <th>SPX</th>\n",
       "      <th>GLD</th>\n",
       "      <th>USO</th>\n",
       "      <th>SLV</th>\n",
       "      <th>EUR/USD</th>\n",
       "    </tr>\n",
       "  </thead>\n",
       "  <tbody>\n",
       "    <tr>\n",
       "      <th>0</th>\n",
       "      <td>1/2/2008</td>\n",
       "      <td>1447.160034</td>\n",
       "      <td>84.860001</td>\n",
       "      <td>78.470001</td>\n",
       "      <td>15.180</td>\n",
       "      <td>1.471692</td>\n",
       "    </tr>\n",
       "    <tr>\n",
       "      <th>1</th>\n",
       "      <td>1/3/2008</td>\n",
       "      <td>1447.160034</td>\n",
       "      <td>85.570000</td>\n",
       "      <td>78.370003</td>\n",
       "      <td>15.285</td>\n",
       "      <td>1.474491</td>\n",
       "    </tr>\n",
       "    <tr>\n",
       "      <th>2</th>\n",
       "      <td>1/4/2008</td>\n",
       "      <td>1411.630005</td>\n",
       "      <td>85.129997</td>\n",
       "      <td>77.309998</td>\n",
       "      <td>15.167</td>\n",
       "      <td>1.475492</td>\n",
       "    </tr>\n",
       "    <tr>\n",
       "      <th>3</th>\n",
       "      <td>1/7/2008</td>\n",
       "      <td>1416.180054</td>\n",
       "      <td>84.769997</td>\n",
       "      <td>75.500000</td>\n",
       "      <td>15.053</td>\n",
       "      <td>1.468299</td>\n",
       "    </tr>\n",
       "    <tr>\n",
       "      <th>4</th>\n",
       "      <td>1/8/2008</td>\n",
       "      <td>1390.189941</td>\n",
       "      <td>86.779999</td>\n",
       "      <td>76.059998</td>\n",
       "      <td>15.590</td>\n",
       "      <td>1.557099</td>\n",
       "    </tr>\n",
       "  </tbody>\n",
       "</table>\n",
       "</div>"
      ],
      "text/plain": [
       "       Date          SPX        GLD        USO     SLV   EUR/USD\n",
       "0  1/2/2008  1447.160034  84.860001  78.470001  15.180  1.471692\n",
       "1  1/3/2008  1447.160034  85.570000  78.370003  15.285  1.474491\n",
       "2  1/4/2008  1411.630005  85.129997  77.309998  15.167  1.475492\n",
       "3  1/7/2008  1416.180054  84.769997  75.500000  15.053  1.468299\n",
       "4  1/8/2008  1390.189941  86.779999  76.059998  15.590  1.557099"
      ]
     },
     "execution_count": 5,
     "metadata": {},
     "output_type": "execute_result"
    }
   ],
   "source": [
    "df.head()"
   ]
  },
  {
   "cell_type": "code",
   "execution_count": 8,
   "id": "d8fb2e3e",
   "metadata": {},
   "outputs": [],
   "source": [
    "x = df[['SPX','USO','SLV','EUR/USD']]\n",
    "y = df['GLD']"
   ]
  },
  {
   "cell_type": "code",
   "execution_count": 9,
   "id": "4b0b60cd",
   "metadata": {},
   "outputs": [],
   "source": [
    "x_train,x_test,y_train,y_test = train_test_split(x,y,test_size=0.2)\n"
   ]
  },
  {
   "cell_type": "code",
   "execution_count": 10,
   "id": "1dc65742",
   "metadata": {},
   "outputs": [],
   "source": [
    "scaler = MinMaxScaler()"
   ]
  },
  {
   "cell_type": "code",
   "execution_count": 11,
   "id": "ee63f2c1",
   "metadata": {},
   "outputs": [],
   "source": [
    "x_train_scaled = scaler.fit_transform(x_train)\n",
    "x_test_scaled = scaler.transform(x_test)"
   ]
  },
  {
   "cell_type": "code",
   "execution_count": 12,
   "id": "e11d8396",
   "metadata": {},
   "outputs": [],
   "source": [
    "model = Sequential()"
   ]
  },
  {
   "cell_type": "code",
   "execution_count": 13,
   "id": "70bdc505",
   "metadata": {},
   "outputs": [],
   "source": [
    "model.add(Dense(10,activation='relu',input_dim=4))\n",
    "model.add(Dense(10,activation='relu'))\n",
    "model.add(Dense(1,activation='linear'))"
   ]
  },
  {
   "cell_type": "code",
   "execution_count": 14,
   "id": "fb7ecf02",
   "metadata": {},
   "outputs": [],
   "source": [
    "model.compile(loss=\"mean_squared_error\",optimizer='Adam')"
   ]
  },
  {
   "cell_type": "code",
   "execution_count": 16,
   "id": "22aedc68",
   "metadata": {},
   "outputs": [
    {
     "name": "stdout",
     "output_type": "stream",
     "text": [
      "Epoch 1/50\n",
      "52/52 [==============================] - 4s 13ms/step - loss: 15497.2441 - val_loss: 15519.4238\n",
      "Epoch 2/50\n",
      "52/52 [==============================] - 0s 4ms/step - loss: 15318.8730 - val_loss: 15251.1045\n",
      "Epoch 3/50\n",
      "52/52 [==============================] - 0s 3ms/step - loss: 14934.4541 - val_loss: 14692.1436\n",
      "Epoch 4/50\n",
      "52/52 [==============================] - 0s 3ms/step - loss: 14157.6992 - val_loss: 13628.5166\n",
      "Epoch 5/50\n",
      "52/52 [==============================] - 0s 3ms/step - loss: 12814.2100 - val_loss: 11955.7393\n",
      "Epoch 6/50\n",
      "52/52 [==============================] - 0s 3ms/step - loss: 10894.4307 - val_loss: 9759.6963\n",
      "Epoch 7/50\n",
      "52/52 [==============================] - 0s 3ms/step - loss: 8542.9746 - val_loss: 7268.1343\n",
      "Epoch 8/50\n",
      "52/52 [==============================] - 0s 3ms/step - loss: 6055.7500 - val_loss: 4826.7827\n",
      "Epoch 9/50\n",
      "52/52 [==============================] - 0s 3ms/step - loss: 3811.0015 - val_loss: 2834.6997\n",
      "Epoch 10/50\n",
      "52/52 [==============================] - 0s 3ms/step - loss: 2133.6616 - val_loss: 1534.9059\n",
      "Epoch 11/50\n",
      "52/52 [==============================] - 0s 5ms/step - loss: 1133.8004 - val_loss: 871.5900\n",
      "Epoch 12/50\n",
      "52/52 [==============================] - 0s 3ms/step - loss: 675.3676 - val_loss: 625.0320\n",
      "Epoch 13/50\n",
      "52/52 [==============================] - 0s 5ms/step - loss: 515.6603 - val_loss: 554.6185\n",
      "Epoch 14/50\n",
      "52/52 [==============================] - 0s 4ms/step - loss: 466.5175 - val_loss: 532.7977\n",
      "Epoch 15/50\n",
      "52/52 [==============================] - 0s 4ms/step - loss: 449.7190 - val_loss: 521.2603\n",
      "Epoch 16/50\n",
      "52/52 [==============================] - 0s 4ms/step - loss: 439.0917 - val_loss: 509.6461\n",
      "Epoch 17/50\n",
      "52/52 [==============================] - 0s 3ms/step - loss: 429.6036 - val_loss: 497.9816\n",
      "Epoch 18/50\n",
      "52/52 [==============================] - 0s 3ms/step - loss: 420.2183 - val_loss: 485.1671\n",
      "Epoch 19/50\n",
      "52/52 [==============================] - 0s 3ms/step - loss: 411.1510 - val_loss: 473.9312\n",
      "Epoch 20/50\n",
      "52/52 [==============================] - 0s 3ms/step - loss: 401.5878 - val_loss: 460.5942\n",
      "Epoch 21/50\n",
      "52/52 [==============================] - 0s 3ms/step - loss: 392.1738 - val_loss: 449.6195\n",
      "Epoch 22/50\n",
      "52/52 [==============================] - 0s 3ms/step - loss: 383.0618 - val_loss: 436.9267\n",
      "Epoch 23/50\n",
      "52/52 [==============================] - 0s 3ms/step - loss: 373.7376 - val_loss: 424.8268\n",
      "Epoch 24/50\n",
      "52/52 [==============================] - 0s 3ms/step - loss: 364.7932 - val_loss: 413.0965\n",
      "Epoch 25/50\n",
      "52/52 [==============================] - 0s 3ms/step - loss: 355.7949 - val_loss: 401.4497\n",
      "Epoch 26/50\n",
      "52/52 [==============================] - 0s 3ms/step - loss: 346.8065 - val_loss: 389.1673\n",
      "Epoch 27/50\n",
      "52/52 [==============================] - 0s 4ms/step - loss: 337.7074 - val_loss: 377.7107\n",
      "Epoch 28/50\n",
      "52/52 [==============================] - 0s 3ms/step - loss: 328.9711 - val_loss: 366.6632\n",
      "Epoch 29/50\n",
      "52/52 [==============================] - 0s 3ms/step - loss: 320.3727 - val_loss: 355.1694\n",
      "Epoch 30/50\n",
      "52/52 [==============================] - 0s 3ms/step - loss: 311.7122 - val_loss: 344.3246\n",
      "Epoch 31/50\n",
      "52/52 [==============================] - 0s 3ms/step - loss: 303.1137 - val_loss: 334.0294\n",
      "Epoch 32/50\n",
      "52/52 [==============================] - 0s 3ms/step - loss: 294.6263 - val_loss: 322.6618\n",
      "Epoch 33/50\n",
      "52/52 [==============================] - 0s 3ms/step - loss: 286.2473 - val_loss: 312.4234\n",
      "Epoch 34/50\n",
      "52/52 [==============================] - 0s 4ms/step - loss: 278.2109 - val_loss: 301.4241\n",
      "Epoch 35/50\n",
      "52/52 [==============================] - 0s 3ms/step - loss: 270.3002 - val_loss: 291.3996\n",
      "Epoch 36/50\n",
      "52/52 [==============================] - 0s 3ms/step - loss: 262.0448 - val_loss: 281.3651\n",
      "Epoch 37/50\n",
      "52/52 [==============================] - 0s 3ms/step - loss: 254.1537 - val_loss: 271.2073\n",
      "Epoch 38/50\n",
      "52/52 [==============================] - 0s 3ms/step - loss: 246.4864 - val_loss: 261.6276\n",
      "Epoch 39/50\n",
      "52/52 [==============================] - 0s 4ms/step - loss: 238.8750 - val_loss: 252.3732\n",
      "Epoch 40/50\n",
      "52/52 [==============================] - 0s 5ms/step - loss: 231.4501 - val_loss: 242.9667\n",
      "Epoch 41/50\n",
      "52/52 [==============================] - 0s 5ms/step - loss: 224.3034 - val_loss: 233.5054\n",
      "Epoch 42/50\n",
      "52/52 [==============================] - 0s 5ms/step - loss: 216.7053 - val_loss: 223.9028\n",
      "Epoch 43/50\n",
      "52/52 [==============================] - 0s 3ms/step - loss: 209.6202 - val_loss: 214.8791\n",
      "Epoch 44/50\n",
      "52/52 [==============================] - 0s 3ms/step - loss: 202.8123 - val_loss: 206.3211\n",
      "Epoch 45/50\n",
      "52/52 [==============================] - 0s 3ms/step - loss: 196.0223 - val_loss: 198.3690\n",
      "Epoch 46/50\n",
      "52/52 [==============================] - 0s 4ms/step - loss: 189.5853 - val_loss: 189.8906\n",
      "Epoch 47/50\n",
      "52/52 [==============================] - 0s 4ms/step - loss: 183.1347 - val_loss: 181.6665\n",
      "Epoch 48/50\n",
      "52/52 [==============================] - 0s 3ms/step - loss: 176.9958 - val_loss: 173.8187\n",
      "Epoch 49/50\n",
      "52/52 [==============================] - 0s 3ms/step - loss: 170.7056 - val_loss: 166.4845\n",
      "Epoch 50/50\n",
      "52/52 [==============================] - 0s 3ms/step - loss: 164.8621 - val_loss: 159.2752\n"
     ]
    }
   ],
   "source": [
    "history = model.fit(x_train_scaled,y_train,epochs=50,validation_split=0.1)"
   ]
  },
  {
   "cell_type": "code",
   "execution_count": 18,
   "id": "72fbbbfb",
   "metadata": {},
   "outputs": [
    {
     "name": "stdout",
     "output_type": "stream",
     "text": [
      "15/15 [==============================] - 0s 7ms/step\n"
     ]
    }
   ],
   "source": [
    "y_pred = model.predict(x_test_scaled)"
   ]
  },
  {
   "cell_type": "code",
   "execution_count": 20,
   "id": "a3f2d9fa",
   "metadata": {},
   "outputs": [],
   "source": [
    "from sklearn.metrics import r2_score"
   ]
  },
  {
   "cell_type": "code",
   "execution_count": 21,
   "id": "d2cdca73",
   "metadata": {},
   "outputs": [
    {
     "data": {
      "text/plain": [
       "0.7177324597182306"
      ]
     },
     "execution_count": 21,
     "metadata": {},
     "output_type": "execute_result"
    }
   ],
   "source": [
    "r2_score(y_test,y_pred)"
   ]
  },
  {
   "cell_type": "code",
   "execution_count": null,
   "id": "f7e95c63",
   "metadata": {},
   "outputs": [],
   "source": []
  }
 ],
 "metadata": {
  "kernelspec": {
   "display_name": "Python 3 (ipykernel)",
   "language": "python",
   "name": "python3"
  },
  "language_info": {
   "codemirror_mode": {
    "name": "ipython",
    "version": 3
   },
   "file_extension": ".py",
   "mimetype": "text/x-python",
   "name": "python",
   "nbconvert_exporter": "python",
   "pygments_lexer": "ipython3",
   "version": "3.9.12"
  }
 },
 "nbformat": 4,
 "nbformat_minor": 5
}
